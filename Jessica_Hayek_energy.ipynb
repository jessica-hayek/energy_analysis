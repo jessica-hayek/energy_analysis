{
 "cells": [
  {
   "cell_type": "markdown",
   "metadata": {},
   "source": [
    "# Energy in Spain: dataset"
   ]
  },
  {
   "cell_type": "markdown",
   "metadata": {},
   "source": [
    "The \"energy.csv\" dataset contains timeseries regarding the power market in Spain.\n",
    "\n",
    "Explanation of columns:\n",
    "* datetime: moment at which the observation happened, in UTC (https://en.wikipedia.org/wiki/Coordinated_Universal_Time)\n",
    "* power_demand: total consumption of electricity in MWh (MegaWatt-hours) [consumption]\n",
    "* nuclear: total energy generated in nuclear power plants in MWh [power generation]\n",
    "* gas: total energy generated in gas powered plants in MWh [power generation]\n",
    "* solar: total energy generated in solar farms in MWh [power generation]\n",
    "* hydro: total energy generated in hydro dams in MWh [power generation]\n",
    "* coal: total energy generated in coal powered plants in MWh [power generation]\n",
    "* wind: total energy generated in wind farms in MWh [power generation]\n",
    "* spot_price: price at which the energy is sold (generation) or bought (consumption) in €/MWh [price]"
   ]
  },
  {
   "cell_type": "markdown",
   "metadata": {},
   "source": [
    "### Import needed libraries"
   ]
  },
  {
   "cell_type": "code",
   "execution_count": 1,
   "metadata": {},
   "outputs": [],
   "source": [
    "import pandas as pd\n",
    "import numpy as np\n",
    "import matplotlib.pyplot as plt\n",
    "%matplotlib inline"
   ]
  },
  {
   "cell_type": "markdown",
   "metadata": {},
   "source": [
    "### Get the data as a pandas Dataframe"
   ]
  },
  {
   "cell_type": "code",
   "execution_count": 2,
   "metadata": {},
   "outputs": [
    {
     "data": {
      "text/html": [
       "<div>\n",
       "<style scoped>\n",
       "    .dataframe tbody tr th:only-of-type {\n",
       "        vertical-align: middle;\n",
       "    }\n",
       "\n",
       "    .dataframe tbody tr th {\n",
       "        vertical-align: top;\n",
       "    }\n",
       "\n",
       "    .dataframe thead th {\n",
       "        text-align: right;\n",
       "    }\n",
       "</style>\n",
       "<table border=\"1\" class=\"dataframe\">\n",
       "  <thead>\n",
       "    <tr style=\"text-align: right;\">\n",
       "      <th></th>\n",
       "      <th>datetime</th>\n",
       "      <th>power_demand</th>\n",
       "      <th>nuclear</th>\n",
       "      <th>gas</th>\n",
       "      <th>solar</th>\n",
       "      <th>hydro</th>\n",
       "      <th>coal</th>\n",
       "      <th>wind</th>\n",
       "      <th>spot_price</th>\n",
       "    </tr>\n",
       "  </thead>\n",
       "  <tbody>\n",
       "    <tr>\n",
       "      <td>0</td>\n",
       "      <td>2019-01-01T00:00:00.000+01:00</td>\n",
       "      <td>23251.2</td>\n",
       "      <td>6059.2</td>\n",
       "      <td>2954.0</td>\n",
       "      <td>7.1</td>\n",
       "      <td>3202.8</td>\n",
       "      <td>1867.0</td>\n",
       "      <td>3830.3</td>\n",
       "      <td>66.88</td>\n",
       "    </tr>\n",
       "    <tr>\n",
       "      <td>1</td>\n",
       "      <td>2019-01-01T01:00:00.000+01:00</td>\n",
       "      <td>22485.0</td>\n",
       "      <td>6059.2</td>\n",
       "      <td>3044.1</td>\n",
       "      <td>8.0</td>\n",
       "      <td>2884.4</td>\n",
       "      <td>1618.0</td>\n",
       "      <td>3172.1</td>\n",
       "      <td>66.88</td>\n",
       "    </tr>\n",
       "    <tr>\n",
       "      <td>2</td>\n",
       "      <td>2019-01-01T02:00:00.000+01:00</td>\n",
       "      <td>20977.0</td>\n",
       "      <td>6059.2</td>\n",
       "      <td>3138.6</td>\n",
       "      <td>7.5</td>\n",
       "      <td>1950.8</td>\n",
       "      <td>1535.3</td>\n",
       "      <td>2980.5</td>\n",
       "      <td>66.00</td>\n",
       "    </tr>\n",
       "    <tr>\n",
       "      <td>3</td>\n",
       "      <td>2019-01-01T03:00:00.000+01:00</td>\n",
       "      <td>19754.2</td>\n",
       "      <td>6059.2</td>\n",
       "      <td>3596.2</td>\n",
       "      <td>7.5</td>\n",
       "      <td>1675.7</td>\n",
       "      <td>1344.0</td>\n",
       "      <td>2840.0</td>\n",
       "      <td>63.64</td>\n",
       "    </tr>\n",
       "    <tr>\n",
       "      <td>4</td>\n",
       "      <td>2019-01-01T04:00:00.000+01:00</td>\n",
       "      <td>19320.6</td>\n",
       "      <td>6063.4</td>\n",
       "      <td>3192.6</td>\n",
       "      <td>7.5</td>\n",
       "      <td>1581.8</td>\n",
       "      <td>1345.0</td>\n",
       "      <td>3253.4</td>\n",
       "      <td>58.85</td>\n",
       "    </tr>\n",
       "  </tbody>\n",
       "</table>\n",
       "</div>"
      ],
      "text/plain": [
       "                        datetime  power_demand  nuclear     gas  solar  \\\n",
       "0  2019-01-01T00:00:00.000+01:00       23251.2   6059.2  2954.0    7.1   \n",
       "1  2019-01-01T01:00:00.000+01:00       22485.0   6059.2  3044.1    8.0   \n",
       "2  2019-01-01T02:00:00.000+01:00       20977.0   6059.2  3138.6    7.5   \n",
       "3  2019-01-01T03:00:00.000+01:00       19754.2   6059.2  3596.2    7.5   \n",
       "4  2019-01-01T04:00:00.000+01:00       19320.6   6063.4  3192.6    7.5   \n",
       "\n",
       "    hydro    coal    wind  spot_price  \n",
       "0  3202.8  1867.0  3830.3       66.88  \n",
       "1  2884.4  1618.0  3172.1       66.88  \n",
       "2  1950.8  1535.3  2980.5       66.00  \n",
       "3  1675.7  1344.0  2840.0       63.64  \n",
       "4  1581.8  1345.0  3253.4       58.85  "
      ]
     },
     "execution_count": 2,
     "metadata": {},
     "output_type": "execute_result"
    }
   ],
   "source": [
    "data = pd.read_csv(\"energy.csv\")\n",
    "data.head()"
   ]
  },
  {
   "cell_type": "markdown",
   "metadata": {},
   "source": [
    "### Calculate the following"
   ]
  },
  {
   "cell_type": "markdown",
   "metadata": {},
   "source": [
    "#### Shape (1 p)"
   ]
  },
  {
   "cell_type": "code",
   "execution_count": 3,
   "metadata": {},
   "outputs": [
    {
     "data": {
      "text/plain": [
       "(8737, 9)"
      ]
     },
     "execution_count": 3,
     "metadata": {},
     "output_type": "execute_result"
    }
   ],
   "source": [
    "data.shape"
   ]
  },
  {
   "cell_type": "markdown",
   "metadata": {},
   "source": [
    "#### Create a list called \"features\" containing all the columns that are not \"datetime\" (1 p)"
   ]
  },
  {
   "cell_type": "code",
   "execution_count": 10,
   "metadata": {},
   "outputs": [
    {
     "name": "stdout",
     "output_type": "stream",
     "text": [
      "['power_demand', 'nuclear', 'gas', 'solar', 'hydro', 'coal', 'wind', 'spot_price']\n"
     ]
    }
   ],
   "source": [
    "# use filter or list comprehensions or for loops or dark magic\n",
    " \n",
    "features = list(data.dtypes[data.dtypes != pd.datetime].index)\n",
    "    \n",
    "print(features)"
   ]
  },
  {
   "cell_type": "markdown",
   "metadata": {},
   "source": [
    "#### How many NaN are there in the dataset? (1 p)"
   ]
  },
  {
   "cell_type": "code",
   "execution_count": 11,
   "metadata": {
    "ExecuteTime": {
     "end_time": "2020-03-06T20:54:32.613280Z",
     "start_time": "2020-03-06T20:54:32.609720Z"
    }
   },
   "outputs": [
    {
     "data": {
      "text/plain": [
       "2541"
      ]
     },
     "execution_count": 11,
     "metadata": {},
     "output_type": "execute_result"
    }
   ],
   "source": [
    "# \"Dealing with missing values\" in the slides\n",
    "\n",
    "data.isnull().sum().sum()"
   ]
  },
  {
   "cell_type": "markdown",
   "metadata": {},
   "source": [
    "#### Convert the \"datetime\" column into a Series containing datetime objects (0.5 p)\n",
    "\n",
    "Pass utc=True as argument to your function of choice *cough* pd.to_dat... *cough*"
   ]
  },
  {
   "cell_type": "code",
   "execution_count": 17,
   "metadata": {},
   "outputs": [],
   "source": [
    "# pandas datetime functionalities\n",
    "\n",
    "data['datetime'] = pd.to_datetime(arg = data['datetime'], utc = True)"
   ]
  },
  {
   "cell_type": "markdown",
   "metadata": {
    "ExecuteTime": {
     "end_time": "2020-03-06T21:06:59.967351Z",
     "start_time": "2020-03-06T21:06:59.960999Z"
    }
   },
   "source": [
    "#### Create the following columns (0.5 p)\n",
    "* year\n",
    "* month\n",
    "* day\n",
    "* hour\n",
    "* weekday"
   ]
  },
  {
   "cell_type": "code",
   "execution_count": 62,
   "metadata": {},
   "outputs": [
    {
     "data": {
      "text/html": [
       "<div>\n",
       "<style scoped>\n",
       "    .dataframe tbody tr th:only-of-type {\n",
       "        vertical-align: middle;\n",
       "    }\n",
       "\n",
       "    .dataframe tbody tr th {\n",
       "        vertical-align: top;\n",
       "    }\n",
       "\n",
       "    .dataframe thead th {\n",
       "        text-align: right;\n",
       "    }\n",
       "</style>\n",
       "<table border=\"1\" class=\"dataframe\">\n",
       "  <thead>\n",
       "    <tr style=\"text-align: right;\">\n",
       "      <th></th>\n",
       "      <th>datetime</th>\n",
       "      <th>power_demand</th>\n",
       "      <th>nuclear</th>\n",
       "      <th>gas</th>\n",
       "      <th>solar</th>\n",
       "      <th>hydro</th>\n",
       "      <th>coal</th>\n",
       "      <th>wind</th>\n",
       "      <th>spot_price</th>\n",
       "      <th>year</th>\n",
       "      <th>month</th>\n",
       "      <th>day</th>\n",
       "      <th>hour</th>\n",
       "      <th>weekday</th>\n",
       "      <th>weekend</th>\n",
       "      <th>season</th>\n",
       "    </tr>\n",
       "  </thead>\n",
       "  <tbody>\n",
       "    <tr>\n",
       "      <td>0</td>\n",
       "      <td>2018-12-31 23:00:00+00:00</td>\n",
       "      <td>23251.2</td>\n",
       "      <td>6059.2</td>\n",
       "      <td>2954.0</td>\n",
       "      <td>7.1</td>\n",
       "      <td>3202.8</td>\n",
       "      <td>1867.0</td>\n",
       "      <td>3830.3</td>\n",
       "      <td>66.88</td>\n",
       "      <td>2018</td>\n",
       "      <td>12</td>\n",
       "      <td>31</td>\n",
       "      <td>23</td>\n",
       "      <td>0</td>\n",
       "      <td>False</td>\n",
       "      <td>winter</td>\n",
       "    </tr>\n",
       "    <tr>\n",
       "      <td>1</td>\n",
       "      <td>2019-01-01 00:00:00+00:00</td>\n",
       "      <td>22485.0</td>\n",
       "      <td>6059.2</td>\n",
       "      <td>3044.1</td>\n",
       "      <td>8.0</td>\n",
       "      <td>2884.4</td>\n",
       "      <td>1618.0</td>\n",
       "      <td>3172.1</td>\n",
       "      <td>66.88</td>\n",
       "      <td>2019</td>\n",
       "      <td>1</td>\n",
       "      <td>1</td>\n",
       "      <td>0</td>\n",
       "      <td>1</td>\n",
       "      <td>False</td>\n",
       "      <td>winter</td>\n",
       "    </tr>\n",
       "    <tr>\n",
       "      <td>2</td>\n",
       "      <td>2019-01-01 01:00:00+00:00</td>\n",
       "      <td>20977.0</td>\n",
       "      <td>6059.2</td>\n",
       "      <td>3138.6</td>\n",
       "      <td>7.5</td>\n",
       "      <td>1950.8</td>\n",
       "      <td>1535.3</td>\n",
       "      <td>2980.5</td>\n",
       "      <td>66.00</td>\n",
       "      <td>2019</td>\n",
       "      <td>1</td>\n",
       "      <td>1</td>\n",
       "      <td>1</td>\n",
       "      <td>1</td>\n",
       "      <td>False</td>\n",
       "      <td>winter</td>\n",
       "    </tr>\n",
       "    <tr>\n",
       "      <td>3</td>\n",
       "      <td>2019-01-01 02:00:00+00:00</td>\n",
       "      <td>19754.2</td>\n",
       "      <td>6059.2</td>\n",
       "      <td>3596.2</td>\n",
       "      <td>7.5</td>\n",
       "      <td>1675.7</td>\n",
       "      <td>1344.0</td>\n",
       "      <td>2840.0</td>\n",
       "      <td>63.64</td>\n",
       "      <td>2019</td>\n",
       "      <td>1</td>\n",
       "      <td>1</td>\n",
       "      <td>2</td>\n",
       "      <td>1</td>\n",
       "      <td>False</td>\n",
       "      <td>winter</td>\n",
       "    </tr>\n",
       "    <tr>\n",
       "      <td>4</td>\n",
       "      <td>2019-01-01 03:00:00+00:00</td>\n",
       "      <td>19320.6</td>\n",
       "      <td>6063.4</td>\n",
       "      <td>3192.6</td>\n",
       "      <td>7.5</td>\n",
       "      <td>1581.8</td>\n",
       "      <td>1345.0</td>\n",
       "      <td>3253.4</td>\n",
       "      <td>58.85</td>\n",
       "      <td>2019</td>\n",
       "      <td>1</td>\n",
       "      <td>1</td>\n",
       "      <td>3</td>\n",
       "      <td>1</td>\n",
       "      <td>False</td>\n",
       "      <td>winter</td>\n",
       "    </tr>\n",
       "  </tbody>\n",
       "</table>\n",
       "</div>"
      ],
      "text/plain": [
       "                   datetime  power_demand  nuclear     gas  solar   hydro  \\\n",
       "0 2018-12-31 23:00:00+00:00       23251.2   6059.2  2954.0    7.1  3202.8   \n",
       "1 2019-01-01 00:00:00+00:00       22485.0   6059.2  3044.1    8.0  2884.4   \n",
       "2 2019-01-01 01:00:00+00:00       20977.0   6059.2  3138.6    7.5  1950.8   \n",
       "3 2019-01-01 02:00:00+00:00       19754.2   6059.2  3596.2    7.5  1675.7   \n",
       "4 2019-01-01 03:00:00+00:00       19320.6   6063.4  3192.6    7.5  1581.8   \n",
       "\n",
       "     coal    wind  spot_price  year  month  day  hour  weekday  weekend  \\\n",
       "0  1867.0  3830.3       66.88  2018     12   31    23        0    False   \n",
       "1  1618.0  3172.1       66.88  2019      1    1     0        1    False   \n",
       "2  1535.3  2980.5       66.00  2019      1    1     1        1    False   \n",
       "3  1344.0  2840.0       63.64  2019      1    1     2        1    False   \n",
       "4  1345.0  3253.4       58.85  2019      1    1     3        1    False   \n",
       "\n",
       "   season  \n",
       "0  winter  \n",
       "1  winter  \n",
       "2  winter  \n",
       "3  winter  \n",
       "4  winter  "
      ]
     },
     "execution_count": 62,
     "metadata": {},
     "output_type": "execute_result"
    }
   ],
   "source": [
    "# pandas datetime functionalities\n",
    "\n",
    "data['year'], data['month'], data['day'], data['hour'], data['weekday'] = [data['datetime'].dt.year, data['datetime'].dt.month, data['datetime'].dt.day, data['datetime'].dt.hour, data['datetime'].dt.weekday]\n",
    "\n",
    "data.head()"
   ]
  },
  {
   "cell_type": "markdown",
   "metadata": {},
   "source": [
    "#### Create a \"weekend\" column containing True if day is Sat/Sun or False if day is Mon/Tue/... (1 p)"
   ]
  },
  {
   "cell_type": "code",
   "execution_count": 51,
   "metadata": {
    "ExecuteTime": {
     "end_time": "2020-03-06T21:11:01.576113Z",
     "start_time": "2020-03-06T21:11:01.572485Z"
    }
   },
   "outputs": [
    {
     "data": {
      "text/plain": [
       "datetime        datetime64[ns, UTC]\n",
       "power_demand                float64\n",
       "nuclear                     float64\n",
       "gas                         float64\n",
       "solar                       float64\n",
       "hydro                       float64\n",
       "coal                        float64\n",
       "wind                        float64\n",
       "spot_price                  float64\n",
       "year                          int64\n",
       "month                         int64\n",
       "day                           int64\n",
       "hour                          int64\n",
       "weekday                       int64\n",
       "weekend                        bool\n",
       "dtype: object"
      ]
     },
     "execution_count": 51,
     "metadata": {},
     "output_type": "execute_result"
    }
   ],
   "source": [
    "# feature engineering\n",
    "# use your already beloved (map + lambda functions)\n",
    "# or list comprehensions\n",
    "\n",
    "data['weekend'] = data['weekday'].map(lambda x: True if x == 5 or x == 6 else False)"
   ]
  },
  {
   "cell_type": "markdown",
   "metadata": {},
   "source": [
    "#### Calculate the average values per weekday for the columns in \"features\" list (1 p)"
   ]
  },
  {
   "cell_type": "code",
   "execution_count": 46,
   "metadata": {
    "ExecuteTime": {
     "end_time": "2020-03-06T21:16:03.022096Z",
     "start_time": "2020-03-06T21:16:03.018931Z"
    }
   },
   "outputs": [
    {
     "data": {
      "text/html": [
       "<div>\n",
       "<style scoped>\n",
       "    .dataframe tbody tr th:only-of-type {\n",
       "        vertical-align: middle;\n",
       "    }\n",
       "\n",
       "    .dataframe tbody tr th {\n",
       "        vertical-align: top;\n",
       "    }\n",
       "\n",
       "    .dataframe thead th {\n",
       "        text-align: right;\n",
       "    }\n",
       "</style>\n",
       "<table border=\"1\" class=\"dataframe\">\n",
       "  <thead>\n",
       "    <tr style=\"text-align: right;\">\n",
       "      <th></th>\n",
       "      <th>power_demand</th>\n",
       "      <th>nuclear</th>\n",
       "      <th>gas</th>\n",
       "      <th>solar</th>\n",
       "      <th>hydro</th>\n",
       "      <th>coal</th>\n",
       "      <th>wind</th>\n",
       "      <th>spot_price</th>\n",
       "    </tr>\n",
       "    <tr>\n",
       "      <th>weekday</th>\n",
       "      <th></th>\n",
       "      <th></th>\n",
       "      <th></th>\n",
       "      <th></th>\n",
       "      <th></th>\n",
       "      <th></th>\n",
       "      <th></th>\n",
       "      <th></th>\n",
       "    </tr>\n",
       "  </thead>\n",
       "  <tbody>\n",
       "    <tr>\n",
       "      <td>0</td>\n",
       "      <td>29207.582306</td>\n",
       "      <td>6390.911769</td>\n",
       "      <td>6483.540032</td>\n",
       "      <td>1382.902420</td>\n",
       "      <td>2919.916173</td>\n",
       "      <td>1282.017737</td>\n",
       "      <td>5846.823379</td>\n",
       "      <td>49.239688</td>\n",
       "    </tr>\n",
       "    <tr>\n",
       "      <td>1</td>\n",
       "      <td>29760.259375</td>\n",
       "      <td>6391.128526</td>\n",
       "      <td>6716.402003</td>\n",
       "      <td>1400.603377</td>\n",
       "      <td>2870.550401</td>\n",
       "      <td>1478.384477</td>\n",
       "      <td>5795.669712</td>\n",
       "      <td>50.202580</td>\n",
       "    </tr>\n",
       "    <tr>\n",
       "      <td>2</td>\n",
       "      <td>29814.897436</td>\n",
       "      <td>6399.605689</td>\n",
       "      <td>6448.102244</td>\n",
       "      <td>1386.101098</td>\n",
       "      <td>2856.419471</td>\n",
       "      <td>1444.195997</td>\n",
       "      <td>6451.173798</td>\n",
       "      <td>48.811442</td>\n",
       "    </tr>\n",
       "    <tr>\n",
       "      <td>3</td>\n",
       "      <td>29913.133253</td>\n",
       "      <td>6408.186458</td>\n",
       "      <td>6404.798397</td>\n",
       "      <td>1396.425420</td>\n",
       "      <td>2904.324439</td>\n",
       "      <td>1364.827287</td>\n",
       "      <td>6452.391747</td>\n",
       "      <td>48.817388</td>\n",
       "    </tr>\n",
       "    <tr>\n",
       "      <td>4</td>\n",
       "      <td>29587.505689</td>\n",
       "      <td>6404.227003</td>\n",
       "      <td>6362.183894</td>\n",
       "      <td>1437.464229</td>\n",
       "      <td>3027.978526</td>\n",
       "      <td>1294.994618</td>\n",
       "      <td>6071.198638</td>\n",
       "      <td>48.785793</td>\n",
       "    </tr>\n",
       "    <tr>\n",
       "      <td>5</td>\n",
       "      <td>26545.257933</td>\n",
       "      <td>6325.359535</td>\n",
       "      <td>4965.318109</td>\n",
       "      <td>1418.782988</td>\n",
       "      <td>2604.202644</td>\n",
       "      <td>1057.801583</td>\n",
       "      <td>5826.916346</td>\n",
       "      <td>45.429864</td>\n",
       "    </tr>\n",
       "    <tr>\n",
       "      <td>6</td>\n",
       "      <td>24759.381490</td>\n",
       "      <td>6353.419231</td>\n",
       "      <td>4089.475000</td>\n",
       "      <td>1373.876790</td>\n",
       "      <td>2439.531651</td>\n",
       "      <td>912.083292</td>\n",
       "      <td>6061.215064</td>\n",
       "      <td>42.653966</td>\n",
       "    </tr>\n",
       "  </tbody>\n",
       "</table>\n",
       "</div>"
      ],
      "text/plain": [
       "         power_demand      nuclear          gas        solar        hydro  \\\n",
       "weekday                                                                     \n",
       "0        29207.582306  6390.911769  6483.540032  1382.902420  2919.916173   \n",
       "1        29760.259375  6391.128526  6716.402003  1400.603377  2870.550401   \n",
       "2        29814.897436  6399.605689  6448.102244  1386.101098  2856.419471   \n",
       "3        29913.133253  6408.186458  6404.798397  1396.425420  2904.324439   \n",
       "4        29587.505689  6404.227003  6362.183894  1437.464229  3027.978526   \n",
       "5        26545.257933  6325.359535  4965.318109  1418.782988  2604.202644   \n",
       "6        24759.381490  6353.419231  4089.475000  1373.876790  2439.531651   \n",
       "\n",
       "                coal         wind  spot_price  \n",
       "weekday                                        \n",
       "0        1282.017737  5846.823379   49.239688  \n",
       "1        1478.384477  5795.669712   50.202580  \n",
       "2        1444.195997  6451.173798   48.811442  \n",
       "3        1364.827287  6452.391747   48.817388  \n",
       "4        1294.994618  6071.198638   48.785793  \n",
       "5        1057.801583  5826.916346   45.429864  \n",
       "6         912.083292  6061.215064   42.653966  "
      ]
     },
     "execution_count": 46,
     "metadata": {},
     "output_type": "execute_result"
    }
   ],
   "source": [
    "# features is the list you created in the beginning\n",
    "\n",
    "data.groupby('weekday').agg(np.mean)[features]"
   ]
  },
  {
   "cell_type": "markdown",
   "metadata": {},
   "source": [
    "#### Create a function that returns the season out of a datetime object (0.5 p)\n",
    "Use that function to create a \"season\" column"
   ]
  },
  {
   "cell_type": "code",
   "execution_count": 60,
   "metadata": {
    "ExecuteTime": {
     "end_time": "2020-03-06T21:20:10.045629Z",
     "start_time": "2020-03-06T21:20:10.035835Z"
    }
   },
   "outputs": [
    {
     "data": {
      "text/html": [
       "<div>\n",
       "<style scoped>\n",
       "    .dataframe tbody tr th:only-of-type {\n",
       "        vertical-align: middle;\n",
       "    }\n",
       "\n",
       "    .dataframe tbody tr th {\n",
       "        vertical-align: top;\n",
       "    }\n",
       "\n",
       "    .dataframe thead th {\n",
       "        text-align: right;\n",
       "    }\n",
       "</style>\n",
       "<table border=\"1\" class=\"dataframe\">\n",
       "  <thead>\n",
       "    <tr style=\"text-align: right;\">\n",
       "      <th></th>\n",
       "      <th>datetime</th>\n",
       "      <th>power_demand</th>\n",
       "      <th>nuclear</th>\n",
       "      <th>gas</th>\n",
       "      <th>solar</th>\n",
       "      <th>hydro</th>\n",
       "      <th>coal</th>\n",
       "      <th>wind</th>\n",
       "      <th>spot_price</th>\n",
       "      <th>year</th>\n",
       "      <th>month</th>\n",
       "      <th>day</th>\n",
       "      <th>hour</th>\n",
       "      <th>weekday</th>\n",
       "      <th>weekend</th>\n",
       "      <th>season</th>\n",
       "    </tr>\n",
       "  </thead>\n",
       "  <tbody>\n",
       "    <tr>\n",
       "      <td>0</td>\n",
       "      <td>2018-12-31 23:00:00+00:00</td>\n",
       "      <td>23251.2</td>\n",
       "      <td>6059.2</td>\n",
       "      <td>2954.0</td>\n",
       "      <td>7.1</td>\n",
       "      <td>3202.8</td>\n",
       "      <td>1867.0</td>\n",
       "      <td>3830.3</td>\n",
       "      <td>66.88</td>\n",
       "      <td>2018</td>\n",
       "      <td>12</td>\n",
       "      <td>31</td>\n",
       "      <td>23</td>\n",
       "      <td>0</td>\n",
       "      <td>False</td>\n",
       "      <td>winter</td>\n",
       "    </tr>\n",
       "    <tr>\n",
       "      <td>1</td>\n",
       "      <td>2019-01-01 00:00:00+00:00</td>\n",
       "      <td>22485.0</td>\n",
       "      <td>6059.2</td>\n",
       "      <td>3044.1</td>\n",
       "      <td>8.0</td>\n",
       "      <td>2884.4</td>\n",
       "      <td>1618.0</td>\n",
       "      <td>3172.1</td>\n",
       "      <td>66.88</td>\n",
       "      <td>2019</td>\n",
       "      <td>1</td>\n",
       "      <td>1</td>\n",
       "      <td>0</td>\n",
       "      <td>1</td>\n",
       "      <td>False</td>\n",
       "      <td>winter</td>\n",
       "    </tr>\n",
       "    <tr>\n",
       "      <td>2</td>\n",
       "      <td>2019-01-01 01:00:00+00:00</td>\n",
       "      <td>20977.0</td>\n",
       "      <td>6059.2</td>\n",
       "      <td>3138.6</td>\n",
       "      <td>7.5</td>\n",
       "      <td>1950.8</td>\n",
       "      <td>1535.3</td>\n",
       "      <td>2980.5</td>\n",
       "      <td>66.00</td>\n",
       "      <td>2019</td>\n",
       "      <td>1</td>\n",
       "      <td>1</td>\n",
       "      <td>1</td>\n",
       "      <td>1</td>\n",
       "      <td>False</td>\n",
       "      <td>winter</td>\n",
       "    </tr>\n",
       "    <tr>\n",
       "      <td>3</td>\n",
       "      <td>2019-01-01 02:00:00+00:00</td>\n",
       "      <td>19754.2</td>\n",
       "      <td>6059.2</td>\n",
       "      <td>3596.2</td>\n",
       "      <td>7.5</td>\n",
       "      <td>1675.7</td>\n",
       "      <td>1344.0</td>\n",
       "      <td>2840.0</td>\n",
       "      <td>63.64</td>\n",
       "      <td>2019</td>\n",
       "      <td>1</td>\n",
       "      <td>1</td>\n",
       "      <td>2</td>\n",
       "      <td>1</td>\n",
       "      <td>False</td>\n",
       "      <td>winter</td>\n",
       "    </tr>\n",
       "    <tr>\n",
       "      <td>4</td>\n",
       "      <td>2019-01-01 03:00:00+00:00</td>\n",
       "      <td>19320.6</td>\n",
       "      <td>6063.4</td>\n",
       "      <td>3192.6</td>\n",
       "      <td>7.5</td>\n",
       "      <td>1581.8</td>\n",
       "      <td>1345.0</td>\n",
       "      <td>3253.4</td>\n",
       "      <td>58.85</td>\n",
       "      <td>2019</td>\n",
       "      <td>1</td>\n",
       "      <td>1</td>\n",
       "      <td>3</td>\n",
       "      <td>1</td>\n",
       "      <td>False</td>\n",
       "      <td>winter</td>\n",
       "    </tr>\n",
       "  </tbody>\n",
       "</table>\n",
       "</div>"
      ],
      "text/plain": [
       "                   datetime  power_demand  nuclear     gas  solar   hydro  \\\n",
       "0 2018-12-31 23:00:00+00:00       23251.2   6059.2  2954.0    7.1  3202.8   \n",
       "1 2019-01-01 00:00:00+00:00       22485.0   6059.2  3044.1    8.0  2884.4   \n",
       "2 2019-01-01 01:00:00+00:00       20977.0   6059.2  3138.6    7.5  1950.8   \n",
       "3 2019-01-01 02:00:00+00:00       19754.2   6059.2  3596.2    7.5  1675.7   \n",
       "4 2019-01-01 03:00:00+00:00       19320.6   6063.4  3192.6    7.5  1581.8   \n",
       "\n",
       "     coal    wind  spot_price  year  month  day  hour  weekday  weekend  \\\n",
       "0  1867.0  3830.3       66.88  2018     12   31    23        0    False   \n",
       "1  1618.0  3172.1       66.88  2019      1    1     0        1    False   \n",
       "2  1535.3  2980.5       66.00  2019      1    1     1        1    False   \n",
       "3  1344.0  2840.0       63.64  2019      1    1     2        1    False   \n",
       "4  1345.0  3253.4       58.85  2019      1    1     3        1    False   \n",
       "\n",
       "   season  \n",
       "0  winter  \n",
       "1  winter  \n",
       "2  winter  \n",
       "3  winter  \n",
       "4  winter  "
      ]
     },
     "execution_count": 60,
     "metadata": {},
     "output_type": "execute_result"
    }
   ],
   "source": [
    "# easy peasy\n",
    "\n",
    "def season(datetime):\n",
    "    month = datetime.month\n",
    "    if month >= 3 and month <= 5:\n",
    "        return \"spring\"\n",
    "    elif month >= 6 and month <= 8:\n",
    "        return \"summer\"\n",
    "    elif month >= 9 and month <= 11:\n",
    "        return \"fall\"\n",
    "    else:\n",
    "        return \"winter\"\n",
    "\n",
    "data['season'] = data['datetime'].map(season)\n",
    "\n",
    "data.head()"
   ]
  },
  {
   "cell_type": "markdown",
   "metadata": {},
   "source": [
    "#### Calculate average demand and spot_price for each season (1 p)"
   ]
  },
  {
   "cell_type": "code",
   "execution_count": 63,
   "metadata": {},
   "outputs": [
    {
     "data": {
      "text/html": [
       "<div>\n",
       "<style scoped>\n",
       "    .dataframe tbody tr th:only-of-type {\n",
       "        vertical-align: middle;\n",
       "    }\n",
       "\n",
       "    .dataframe tbody tr th {\n",
       "        vertical-align: top;\n",
       "    }\n",
       "\n",
       "    .dataframe thead th {\n",
       "        text-align: right;\n",
       "    }\n",
       "</style>\n",
       "<table border=\"1\" class=\"dataframe\">\n",
       "  <thead>\n",
       "    <tr style=\"text-align: right;\">\n",
       "      <th></th>\n",
       "      <th>power_demand</th>\n",
       "      <th>spot_price</th>\n",
       "    </tr>\n",
       "    <tr>\n",
       "      <th>season</th>\n",
       "      <th></th>\n",
       "      <th></th>\n",
       "    </tr>\n",
       "  </thead>\n",
       "  <tbody>\n",
       "    <tr>\n",
       "      <td>fall</td>\n",
       "      <td>27926.784112</td>\n",
       "      <td>43.859789</td>\n",
       "    </tr>\n",
       "    <tr>\n",
       "      <td>spring</td>\n",
       "      <td>27275.742482</td>\n",
       "      <td>49.198279</td>\n",
       "    </tr>\n",
       "    <tr>\n",
       "      <td>summer</td>\n",
       "      <td>29075.777038</td>\n",
       "      <td>47.866703</td>\n",
       "    </tr>\n",
       "    <tr>\n",
       "      <td>winter</td>\n",
       "      <td>29807.581563</td>\n",
       "      <td>49.928872</td>\n",
       "    </tr>\n",
       "  </tbody>\n",
       "</table>\n",
       "</div>"
      ],
      "text/plain": [
       "        power_demand  spot_price\n",
       "season                          \n",
       "fall    27926.784112   43.859789\n",
       "spring  27275.742482   49.198279\n",
       "summer  29075.777038   47.866703\n",
       "winter  29807.581563   49.928872"
      ]
     },
     "execution_count": 63,
     "metadata": {},
     "output_type": "execute_result"
    }
   ],
   "source": [
    "data.groupby('season').agg(np.mean)[['power_demand', 'spot_price']]"
   ]
  },
  {
   "cell_type": "markdown",
   "metadata": {},
   "source": [
    "#### Why are there so many NaN values in the \"solar\" column? (0.5 p - extra)"
   ]
  },
  {
   "cell_type": "code",
   "execution_count": null,
   "metadata": {},
   "outputs": [],
   "source": []
  },
  {
   "cell_type": "markdown",
   "metadata": {},
   "source": [
    "#### Calculate the total income for each type of power generation and total costs for consumption (4 p) \n",
    "Return a dictionary like the following one:\n",
    "\n",
    "{ \"consumption\": cost_consumption, \"wind\": income_wind, \"solar\": income_solar, \"gas\": income_gas, ...} "
   ]
  },
  {
   "cell_type": "code",
   "execution_count": 70,
   "metadata": {
    "ExecuteTime": {
     "end_time": "2020-03-06T21:55:22.636499Z",
     "start_time": "2020-03-06T21:55:22.633967Z"
    }
   },
   "outputs": [
    {
     "data": {
      "text/plain": [
       "{'nuclear': 2674992442.1679997,\n",
       " 'gas': 2577997502.639,\n",
       " 'solar': 430157479.785,\n",
       " 'hydro': 1179143190.696,\n",
       " 'coal': 591516973.36,\n",
       " 'wind': 2412917661.565,\n",
       " 'consumption': 12115827296.223999}"
      ]
     },
     "execution_count": 70,
     "metadata": {},
     "output_type": "execute_result"
    }
   ],
   "source": [
    "# Income = energy_generated * price\n",
    "# Cost = energy_bought * price\n",
    "\n",
    "cost_and_income = {}\n",
    "price = data['spot_price']\n",
    "for i in features:\n",
    "    if i == 'spot_price':\n",
    "        continue   \n",
    "    else:\n",
    "        cost_and_income[i] = (data[i] * price).sum()\n",
    "\n",
    "# just in case you are picky about the consumption key being actually called consumption and not power_demand\n",
    "cost_and_income['consumption'] = cost_and_income.pop('power_demand')        \n",
    "        \n",
    "cost_and_income"
   ]
  },
  {
   "cell_type": "markdown",
   "metadata": {},
   "source": [
    "#### Create two plots: (2 p)\n",
    "* Hourly average power demand\n",
    "* Hourly average spot price"
   ]
  },
  {
   "cell_type": "code",
   "execution_count": 92,
   "metadata": {},
   "outputs": [
    {
     "data": {
      "image/png": "[encoded data removed]",
      "text/plain": [
       "<Figure size 432x288 with 1 Axes>"
      ]
     },
     "metadata": {
      "needs_background": "light"
     },
     "output_type": "display_data"
    },
    {
     "data": {
      "image/png": "[encoded data removed]",
      "text/plain": [
       "<Figure size 432x288 with 1 Axes>"
      ]
     },
     "metadata": {
      "needs_background": "light"
     },
     "output_type": "display_data"
    }
   ],
   "source": [
    "data.groupby('hour').agg(np.mean)['power_demand'].plot(kind = 'bar', color = 'orange').set_title('Hourly average power demand')\n",
    "plt.show()\n",
    "data.groupby('hour').agg(np.mean)['spot_price'].plot(kind = 'bar').set_title('Hourly average spot price')\n",
    "plt.show()"
   ]
  },
  {
   "cell_type": "markdown",
   "metadata": {
    "ExecuteTime": {
     "end_time": "2020-03-06T21:37:24.835762Z",
     "start_time": "2020-03-06T21:37:24.831582Z"
    }
   },
   "source": [
    "#### Create a categorical variable called \"wind_category\" using the \"wind\" column (2 p)\n",
    "Create 3 categories: low, mid, high"
   ]
  },
  {
   "cell_type": "code",
   "execution_count": 101,
   "metadata": {},
   "outputs": [
    {
     "data": {
      "text/html": [
       "<div>\n",
       "<style scoped>\n",
       "    .dataframe tbody tr th:only-of-type {\n",
       "        vertical-align: middle;\n",
       "    }\n",
       "\n",
       "    .dataframe tbody tr th {\n",
       "        vertical-align: top;\n",
       "    }\n",
       "\n",
       "    .dataframe thead th {\n",
       "        text-align: right;\n",
       "    }\n",
       "</style>\n",
       "<table border=\"1\" class=\"dataframe\">\n",
       "  <thead>\n",
       "    <tr style=\"text-align: right;\">\n",
       "      <th></th>\n",
       "      <th>datetime</th>\n",
       "      <th>power_demand</th>\n",
       "      <th>nuclear</th>\n",
       "      <th>gas</th>\n",
       "      <th>solar</th>\n",
       "      <th>hydro</th>\n",
       "      <th>coal</th>\n",
       "      <th>wind</th>\n",
       "      <th>spot_price</th>\n",
       "      <th>year</th>\n",
       "      <th>month</th>\n",
       "      <th>day</th>\n",
       "      <th>hour</th>\n",
       "      <th>weekday</th>\n",
       "      <th>weekend</th>\n",
       "      <th>season</th>\n",
       "      <th>wind_category</th>\n",
       "    </tr>\n",
       "  </thead>\n",
       "  <tbody>\n",
       "    <tr>\n",
       "      <td>0</td>\n",
       "      <td>2018-12-31 23:00:00+00:00</td>\n",
       "      <td>23251.2</td>\n",
       "      <td>6059.2</td>\n",
       "      <td>2954.0</td>\n",
       "      <td>7.1</td>\n",
       "      <td>3202.8</td>\n",
       "      <td>1867.0</td>\n",
       "      <td>3830.3</td>\n",
       "      <td>66.88</td>\n",
       "      <td>2018</td>\n",
       "      <td>12</td>\n",
       "      <td>31</td>\n",
       "      <td>23</td>\n",
       "      <td>0</td>\n",
       "      <td>False</td>\n",
       "      <td>winter</td>\n",
       "      <td>low</td>\n",
       "    </tr>\n",
       "    <tr>\n",
       "      <td>1</td>\n",
       "      <td>2019-01-01 00:00:00+00:00</td>\n",
       "      <td>22485.0</td>\n",
       "      <td>6059.2</td>\n",
       "      <td>3044.1</td>\n",
       "      <td>8.0</td>\n",
       "      <td>2884.4</td>\n",
       "      <td>1618.0</td>\n",
       "      <td>3172.1</td>\n",
       "      <td>66.88</td>\n",
       "      <td>2019</td>\n",
       "      <td>1</td>\n",
       "      <td>1</td>\n",
       "      <td>0</td>\n",
       "      <td>1</td>\n",
       "      <td>False</td>\n",
       "      <td>winter</td>\n",
       "      <td>low</td>\n",
       "    </tr>\n",
       "    <tr>\n",
       "      <td>2</td>\n",
       "      <td>2019-01-01 01:00:00+00:00</td>\n",
       "      <td>20977.0</td>\n",
       "      <td>6059.2</td>\n",
       "      <td>3138.6</td>\n",
       "      <td>7.5</td>\n",
       "      <td>1950.8</td>\n",
       "      <td>1535.3</td>\n",
       "      <td>2980.5</td>\n",
       "      <td>66.00</td>\n",
       "      <td>2019</td>\n",
       "      <td>1</td>\n",
       "      <td>1</td>\n",
       "      <td>1</td>\n",
       "      <td>1</td>\n",
       "      <td>False</td>\n",
       "      <td>winter</td>\n",
       "      <td>low</td>\n",
       "    </tr>\n",
       "    <tr>\n",
       "      <td>3</td>\n",
       "      <td>2019-01-01 02:00:00+00:00</td>\n",
       "      <td>19754.2</td>\n",
       "      <td>6059.2</td>\n",
       "      <td>3596.2</td>\n",
       "      <td>7.5</td>\n",
       "      <td>1675.7</td>\n",
       "      <td>1344.0</td>\n",
       "      <td>2840.0</td>\n",
       "      <td>63.64</td>\n",
       "      <td>2019</td>\n",
       "      <td>1</td>\n",
       "      <td>1</td>\n",
       "      <td>2</td>\n",
       "      <td>1</td>\n",
       "      <td>False</td>\n",
       "      <td>winter</td>\n",
       "      <td>low</td>\n",
       "    </tr>\n",
       "    <tr>\n",
       "      <td>4</td>\n",
       "      <td>2019-01-01 03:00:00+00:00</td>\n",
       "      <td>19320.6</td>\n",
       "      <td>6063.4</td>\n",
       "      <td>3192.6</td>\n",
       "      <td>7.5</td>\n",
       "      <td>1581.8</td>\n",
       "      <td>1345.0</td>\n",
       "      <td>3253.4</td>\n",
       "      <td>58.85</td>\n",
       "      <td>2019</td>\n",
       "      <td>1</td>\n",
       "      <td>1</td>\n",
       "      <td>3</td>\n",
       "      <td>1</td>\n",
       "      <td>False</td>\n",
       "      <td>winter</td>\n",
       "      <td>low</td>\n",
       "    </tr>\n",
       "  </tbody>\n",
       "</table>\n",
       "</div>"
      ],
      "text/plain": [
       "                   datetime  power_demand  nuclear     gas  solar   hydro  \\\n",
       "0 2018-12-31 23:00:00+00:00       23251.2   6059.2  2954.0    7.1  3202.8   \n",
       "1 2019-01-01 00:00:00+00:00       22485.0   6059.2  3044.1    8.0  2884.4   \n",
       "2 2019-01-01 01:00:00+00:00       20977.0   6059.2  3138.6    7.5  1950.8   \n",
       "3 2019-01-01 02:00:00+00:00       19754.2   6059.2  3596.2    7.5  1675.7   \n",
       "4 2019-01-01 03:00:00+00:00       19320.6   6063.4  3192.6    7.5  1581.8   \n",
       "\n",
       "     coal    wind  spot_price  year  month  day  hour  weekday  weekend  \\\n",
       "0  1867.0  3830.3       66.88  2018     12   31    23        0    False   \n",
       "1  1618.0  3172.1       66.88  2019      1    1     0        1    False   \n",
       "2  1535.3  2980.5       66.00  2019      1    1     1        1    False   \n",
       "3  1344.0  2840.0       63.64  2019      1    1     2        1    False   \n",
       "4  1345.0  3253.4       58.85  2019      1    1     3        1    False   \n",
       "\n",
       "   season wind_category  \n",
       "0  winter           low  \n",
       "1  winter           low  \n",
       "2  winter           low  \n",
       "3  winter           low  \n",
       "4  winter           low  "
      ]
     },
     "execution_count": 101,
     "metadata": {},
     "output_type": "execute_result"
    }
   ],
   "source": [
    "data['wind_category'] = pd.cut(x = data['wind'], bins = [data['wind'].min(), data['wind'].quantile(0.33), data['wind'].quantile(0.67), data['wind'].max()], labels = ['low', 'medium', 'high'])\n",
    "\n",
    "data.head()"
   ]
  },
  {
   "cell_type": "markdown",
   "metadata": {},
   "source": [
    "#### Which is the power generation type that has generated the most energy? And the least? (2 p)"
   ]
  },
  {
   "cell_type": "code",
   "execution_count": 104,
   "metadata": {},
   "outputs": [
    {
     "name": "stdout",
     "output_type": "stream",
     "text": [
      "nuclear\n"
     ]
    },
    {
     "data": {
      "text/plain": [
       "'solar'"
      ]
     },
     "execution_count": 104,
     "metadata": {},
     "output_type": "execute_result"
    }
   ],
   "source": [
    "generators = {}\n",
    "for i in features:\n",
    "    if i == 'spot_price' or i == 'power_demand':\n",
    "        continue   \n",
    "    else:\n",
    "        generators[i] = data[i].sum()\n",
    "        \n",
    "print(max(generators, key = generators.get)) # generated most energy\n",
    "min(generators, key = generators.get)  # generated least energy"
   ]
  },
  {
   "cell_type": "code",
   "execution_count": null,
   "metadata": {},
   "outputs": [],
   "source": []
  }
 ],
 "metadata": {
  "kernelspec": {
   "display_name": "Python 3",
   "language": "python",
   "name": "python3"
  },
  "language_info": {
   "codemirror_mode": {
    "name": "ipython",
    "version": 3
   },
   "file_extension": ".py",
   "mimetype": "text/x-python",
   "name": "python",
   "nbconvert_exporter": "python",
   "pygments_lexer": "ipython3",
   "version": "3.7.4"
  },
  "toc": {
   "base_numbering": 1,
   "nav_menu": {},
   "number_sections": true,
   "sideBar": true,
   "skip_h1_title": false,
   "title_cell": "Table of Contents",
   "title_sidebar": "Contents",
   "toc_cell": false,
   "toc_position": {},
   "toc_section_display": true,
   "toc_window_display": false
  }
 },
 "nbformat": 4,
 "nbformat_minor": 2
}
